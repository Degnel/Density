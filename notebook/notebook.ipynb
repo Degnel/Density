{
 "cells": [
  {
   "cell_type": "code",
   "execution_count": 1,
   "metadata": {},
   "outputs": [
    {
     "ename": "",
     "evalue": "",
     "output_type": "error",
     "traceback": [
      "\u001b[1;31mThe Kernel crashed while executing code in the current cell or a previous cell. \n",
      "\u001b[1;31mPlease review the code in the cell(s) to identify a possible cause of the failure. \n",
      "\u001b[1;31mClick <a href='https://aka.ms/vscodeJupyterKernelCrash'>here</a> for more info. \n",
      "\u001b[1;31mView Jupyter <a href='command:jupyter.viewOutput'>log</a> for further details."
     ]
    }
   ],
   "source": [
    "import torch.nn as nn\n",
    "\n",
    "# Exemple : Charger un modèle inconnu\n",
    "model = nn.Sequential(\n",
    "    nn.Conv2d(3, 16, kernel_size=3),  # Attente : entrée de shape (N, 3, H, W)\n",
    "    nn.ReLU(),\n",
    "    nn.Flatten(),\n",
    "    nn.Linear(16 * 30 * 30, 10)\n",
    ")\n",
    "\n",
    "# Extraire la première couche\n",
    "first_layer = list(model.children())[0]\n",
    "\n",
    "# Vérifier les paramètres\n",
    "if isinstance(first_layer, nn.Conv2d):\n",
    "    print(f\"Le modèle attend probablement une entrée avec {first_layer.in_channels} canaux.\")"
   ]
  }
 ],
 "metadata": {
  "kernelspec": {
   "display_name": "base",
   "language": "python",
   "name": "python3"
  },
  "language_info": {
   "codemirror_mode": {
    "name": "ipython",
    "version": 3
   },
   "file_extension": ".py",
   "mimetype": "text/x-python",
   "name": "python",
   "nbconvert_exporter": "python",
   "pygments_lexer": "ipython3",
   "version": "3.11.5"
  }
 },
 "nbformat": 4,
 "nbformat_minor": 2
}
